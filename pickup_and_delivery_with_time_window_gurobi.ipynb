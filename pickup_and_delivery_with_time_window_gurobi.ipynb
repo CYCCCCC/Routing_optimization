{
 "cells": [
  {
   "cell_type": "markdown",
   "metadata": {},
   "source": [
    "# Setting"
   ]
  },
  {
   "cell_type": "code",
   "execution_count": 1,
   "metadata": {},
   "outputs": [],
   "source": [
    "import numpy as np\n",
    "import pandas as pd\n",
    "import itertools\n",
    "import random\n",
    "import datetime as dt\n",
    "\n",
    "import gurobipy as gp\n",
    "from gurobipy import GRB\n",
    "\n",
    "from gmplot import gmplot\n",
    "import requests\n",
    "import polyline\n",
    "\n",
    "import matplotlib.pyplot as plt\n",
    "import seaborn as sns\n",
    "sns.set_theme()"
   ]
  },
  {
   "cell_type": "code",
   "execution_count": 2,
   "metadata": {},
   "outputs": [],
   "source": [
    "api_key = 'api_key'\n",
    "\n",
    "# location of depot\n",
    "depot_lat = 51.327580\n",
    "depot_lng = -2.606940\n",
    "\n",
    "# average service time (mins)\n",
    "svc = 30  \n",
    "\n",
    "# Large constant\n",
    "M = 10000"
   ]
  },
  {
   "cell_type": "code",
   "execution_count": 3,
   "metadata": {},
   "outputs": [],
   "source": [
    "df = pd.read_csv('data_raw.csv')"
   ]
  },
  {
   "cell_type": "markdown",
   "metadata": {},
   "source": [
    "# Pre-processing"
   ]
  },
  {
   "cell_type": "markdown",
   "metadata": {},
   "source": [
    "## Node sets"
   ]
  },
  {
   "cell_type": "code",
   "execution_count": null,
   "metadata": {},
   "outputs": [],
   "source": [
    "order_cnt = int(len(df)/2)\n",
    "\n",
    "# all nodes including depot\n",
    "n = [i for i in range(len(df)+2)]\n",
    "\n",
    "# all pickup points\n",
    "p_plus = [i for i in range(1, order_cnt+1)]\n",
    "\n",
    "# all delivery points\n",
    "p_minus = [i for i in range(order_cnt+1, order_cnt*2+1)]\n",
    "\n",
    "# set of pickup and delivery points\n",
    "p = [i for i in range(1, len(df)+1)]\n",
    "\n",
    "# all departing points\n",
    "n_plus = [i for i in range(len(df)+1)]\n",
    "\n",
    "# all arrival points\n",
    "n_minus = [i for i in range(1, len(df)+2)]"
   ]
  },
  {
   "cell_type": "markdown",
   "metadata": {},
   "source": [
    "## Travel distance / Travel time"
   ]
  },
  {
   "cell_type": "markdown",
   "metadata": {},
   "source": [
    "### Time data type transform"
   ]
  },
  {
   "cell_type": "code",
   "execution_count": null,
   "metadata": {},
   "outputs": [],
   "source": [
    "df['CUSTOMER_TIMESLOT_START'] = pd.to_datetime(df['CUSTOMER_TIMESLOT_START'])\n",
    "df['CUSTOMER_TIMESLOT_END'] = pd.to_datetime(df['CUSTOMER_TIMESLOT_END'])\n",
    "\n",
    "df['START_TIME'] = pd.to_datetime(df['START_TIME'])\n",
    "df['END_TIME'] = pd.to_datetime(df['END_TIME'])\n",
    "\n",
    "df['tw_start_mins'] = df['CUSTOMER_TIMESLOT_START'].dt.hour * 60 + df['CUSTOMER_TIMESLOT_START'].dt.minute\n",
    "df['tw_end_mins'] = df['CUSTOMER_TIMESLOT_END'].dt.hour * 60 + df['CUSTOMER_TIMESLOT_END'].dt.minute\n",
    "\n",
    "# calculate accurate time in minutes\n",
    "df['real_start_mins'] = (df['START_TIME'].dt.hour * 60*60 + df['START_TIME'].dt.minute *60 + df['START_TIME'].dt.second)/60\n",
    "df['real_end_mins'] = (df['END_TIME'].dt.hour * 60*60 + df['END_TIME'].dt.minute*60 + df['END_TIME'].dt.second)/60"
   ]
  },
  {
   "cell_type": "code",
   "execution_count": null,
   "metadata": {},
   "outputs": [
    {
     "name": "stderr",
     "output_type": "stream",
     "text": [
      "/usr/local/lib/python3.7/site-packages/pandas/core/ops/array_ops.py:73: FutureWarning: Comparison of Timestamp with datetime.date is deprecated in order to match the standard library behavior.  In a future version these will be considered non-comparable.Use 'ts == pd.Timestamp(date)' or 'ts.date() == date' instead.\n",
      "  result = libops.scalar_compare(x.ravel(), y, op)\n"
     ]
    }
   ],
   "source": [
    "# depends on the data date\n",
    "today = pd.to_datetime('2023-09-15')\n",
    "\n",
    "# if the start data is the previous date then repplace with 0\n",
    "df.loc[df['CUSTOMER_TIMESLOT_START'].dt.date < today, 'tw_start_mins'] = 0"
   ]
  },
  {
   "cell_type": "markdown",
   "metadata": {},
   "source": [
    "### Extract location data"
   ]
  },
  {
   "cell_type": "code",
   "execution_count": null,
   "metadata": {},
   "outputs": [],
   "source": [
    "dist = df[['LAT', 'LNG', 'ORDER_INDEX']]\n",
    "\n",
    "# set depot\n",
    "dist = dist.append({'LAT':depot_lat, 'LNG':depot_lng, 'ORDER_INDEX':0}, ignore_index=True)\n",
    "dist = dist.append({'LAT':depot_lat, 'LNG':depot_lng, 'ORDER_INDEX':11}, ignore_index=True)\n",
    "\n",
    "dist = dist.sort_values('ORDER_INDEX')\n",
    "dist = dist.reset_index(drop=True)"
   ]
  },
  {
   "cell_type": "markdown",
   "metadata": {},
   "source": [
    "### Large size vehicle speed adjustment"
   ]
  },
  {
   "cell_type": "markdown",
   "metadata": {},
   "source": [
    "#### Calculate the real travel time"
   ]
  },
  {
   "cell_type": "code",
   "execution_count": null,
   "metadata": {},
   "outputs": [
    {
     "name": "stderr",
     "output_type": "stream",
     "text": [
      "/usr/local/lib/python3.7/site-packages/ipykernel_launcher.py:7: SettingWithCopyWarning: \n",
      "A value is trying to be set on a copy of a slice from a DataFrame\n",
      "\n",
      "See the caveats in the documentation: https://pandas.pydata.org/pandas-docs/stable/user_guide/indexing.html#returning-a-view-versus-a-copy\n",
      "  import sys\n"
     ]
    }
   ],
   "source": [
    "# sort by sequence to calculate the real travel time between nodes\n",
    "df = df.sort_values('SORT_ORDER').reset_index()\n",
    "\n",
    "df['real_travel_time'] = 0.00\n",
    "\n",
    "for i in range(1, len(df)):\n",
    "    df['real_travel_time'][i] = df['real_start_mins'][i] - df['real_end_mins'][i-1]"
   ]
  },
  {
   "cell_type": "markdown",
   "metadata": {},
   "source": [
    "#### Calculate the travel time from google map API"
   ]
  },
  {
   "cell_type": "code",
   "execution_count": null,
   "metadata": {},
   "outputs": [],
   "source": [
    "def google_maps_driving_time(lat1, lon1, lat2, lon2, api_key, vehicle_type='small'):\n",
    "    origin = f\"{lat1},{lon1}\"\n",
    "    destination = f\"{lat2},{lon2}\"\n",
    "    # large_coef = 1.18   # the time of the truck is around 1.18 times of that of passenger car\n",
    "    \n",
    "    # API request URL\n",
    "    url = f\"https://maps.googleapis.com/maps/api/distancematrix/json?origins={origin}&destinations={destination}&mode=driving&departure_time=now&key={api_key}\"\n",
    "    \n",
    "    # request\n",
    "    response = requests.get(url)\n",
    "    result = response.json()\n",
    "    \n",
    "    if result['status'] == 'OK':\n",
    "        # get travel distance\n",
    "        distance_meters = result['rows'][0]['elements'][0]['distance']['value']\n",
    "        distance_km = distance_meters / 1000.0\n",
    "\n",
    "        # get travel time\n",
    "        driving_time_seconds = result['rows'][0]['elements'][0]['duration']['value']\n",
    "        # adjust the time according to vehicle type\n",
    "        # if vehicle_type == 'large':\n",
    "        #     driving_time_seconds *= large_coef\n",
    "        # convert the unit to minintes\n",
    "        driving_time_minutes = driving_time_seconds / 60.0\n",
    "        \n",
    "        return distance_km, driving_time_minutes\n",
    "    else:\n",
    "        raise Exception(f\"Error fetching driving time from Google Maps API: {result['status']} - {result.get('error_message', '')}\")\n"
   ]
  },
  {
   "cell_type": "code",
   "execution_count": null,
   "metadata": {},
   "outputs": [],
   "source": [
    "time_matrix = pd.DataFrame(index=[i for i in dist['ORDER_INDEX']], columns=[i for i in dist['ORDER_INDEX']])\n",
    "\n",
    "for i in range(len(dist)):\n",
    "    for j in range(len(dist)):\n",
    "        if i != j:\n",
    "            time_matrix.loc[i, j] = google_maps_driving_time(dist['LAT'][i], dist['LNG'][i], dist['LAT'][j], dist['LNG'][j], api_key, vehicle_type='large')[1]"
   ]
  },
  {
   "cell_type": "markdown",
   "metadata": {},
   "source": [
    "#### Calculate the large-size vehicle travel time ratio"
   ]
  },
  {
   "cell_type": "code",
   "execution_count": null,
   "metadata": {},
   "outputs": [
    {
     "name": "stderr",
     "output_type": "stream",
     "text": [
      "/usr/local/lib/python3.7/site-packages/ipykernel_launcher.py:4: SettingWithCopyWarning: \n",
      "A value is trying to be set on a copy of a slice from a DataFrame\n",
      "\n",
      "See the caveats in the documentation: https://pandas.pydata.org/pandas-docs/stable/user_guide/indexing.html#returning-a-view-versus-a-copy\n",
      "  after removing the cwd from sys.path.\n"
     ]
    }
   ],
   "source": [
    "df['gmap_time'] = 0.00\n",
    "\n",
    "for i in range(1, len(df)):\n",
    "    df['gmap_time'][i] = time_matrix[df['ORDER_INDEX'][i]][df['ORDER_INDEX'][i-1]]"
   ]
  },
  {
   "cell_type": "code",
   "execution_count": null,
   "metadata": {},
   "outputs": [
    {
     "data": {
      "text/plain": [
       "1.0656143777011675"
      ]
     },
     "metadata": {},
     "output_type": "display_data"
    }
   ],
   "source": [
    "df['ratio'] = df['real_travel_time'] / df['gmap_time']\n",
    "df['ratio'].mean()"
   ]
  },
  {
   "cell_type": "markdown",
   "metadata": {},
   "source": [
    "### Finalised travel distance / travel time"
   ]
  },
  {
   "cell_type": "code",
   "execution_count": null,
   "metadata": {},
   "outputs": [],
   "source": [
    "def google_maps_driving_time(lat1, lon1, lat2, lon2, api_key, vehicle_type='small'):\n",
    "    origin = f\"{lat1},{lon1}\"\n",
    "    destination = f\"{lat2},{lon2}\"\n",
    "    large_coef = 1.066   # the time of the truck is around 1.18 times of that of passenger car\n",
    "    \n",
    "    # API request URL\n",
    "    url = f\"https://maps.googleapis.com/maps/api/distancematrix/json?origins={origin}&destinations={destination}&mode=driving&departure_time=now&key={api_key}\"\n",
    "    \n",
    "    # request\n",
    "    response = requests.get(url)\n",
    "    result = response.json()\n",
    "    \n",
    "    if result['status'] == 'OK':\n",
    "        # get travel distance\n",
    "        distance_meters = result['rows'][0]['elements'][0]['distance']['value']\n",
    "        distance_km = distance_meters / 1000.0\n",
    "\n",
    "        # get travel time\n",
    "        driving_time_seconds = result['rows'][0]['elements'][0]['duration']['value']\n",
    "        # adjust the time according to vehicle type\n",
    "        if vehicle_type == 'large':\n",
    "            driving_time_seconds *= large_coef\n",
    "        # convert the unit to minintes\n",
    "        driving_time_minutes = driving_time_seconds / 60.0\n",
    "        \n",
    "        return distance_km, driving_time_minutes\n",
    "    else:\n",
    "        raise Exception(f\"Error fetching driving time from Google Maps API: {result['status']} - {result.get('error_message', '')}\")\n"
   ]
  },
  {
   "cell_type": "code",
   "execution_count": null,
   "metadata": {},
   "outputs": [],
   "source": [
    "dist_matrix = pd.DataFrame(index=[i for i in dist['ORDER_INDEX']], columns=[i for i in dist['ORDER_INDEX']])\n",
    "time_matrix = pd.DataFrame(index=[i for i in dist['ORDER_INDEX']], columns=[i for i in dist['ORDER_INDEX']])\n",
    "\n",
    "for i in range(len(dist)):\n",
    "    for j in range(len(dist)):\n",
    "        if i != j:\n",
    "            dist_matrix.loc[i, j] = google_maps_driving_time(dist['LAT'][i], dist['LNG'][i], dist['LAT'][j], dist['LNG'][j], api_key, vehicle_type='large')[0]\n",
    "            time_matrix.loc[i, j] = google_maps_driving_time(dist['LAT'][i], dist['LNG'][i], dist['LAT'][j], dist['LNG'][j], api_key, vehicle_type='large')[1]"
   ]
  },
  {
   "cell_type": "code",
   "execution_count": null,
   "metadata": {},
   "outputs": [
    {
     "data": {
      "text/html": [
       "<div>\n",
       "<style scoped>\n",
       "    .dataframe tbody tr th:only-of-type {\n",
       "        vertical-align: middle;\n",
       "    }\n",
       "\n",
       "    .dataframe tbody tr th {\n",
       "        vertical-align: top;\n",
       "    }\n",
       "\n",
       "    .dataframe thead th {\n",
       "        text-align: right;\n",
       "    }\n",
       "</style>\n",
       "<table border=\"1\" class=\"dataframe\">\n",
       "  <thead>\n",
       "    <tr style=\"text-align: right;\">\n",
       "      <th></th>\n",
       "      <th>0.0</th>\n",
       "      <th>1.0</th>\n",
       "      <th>2.0</th>\n",
       "      <th>3.0</th>\n",
       "      <th>4.0</th>\n",
       "      <th>5.0</th>\n",
       "      <th>6.0</th>\n",
       "      <th>7.0</th>\n",
       "      <th>8.0</th>\n",
       "      <th>9.0</th>\n",
       "      <th>10.0</th>\n",
       "      <th>11.0</th>\n",
       "    </tr>\n",
       "  </thead>\n",
       "  <tbody>\n",
       "    <tr>\n",
       "      <th>0.0</th>\n",
       "      <td>NaN</td>\n",
       "      <td>36.39</td>\n",
       "      <td>21.133</td>\n",
       "      <td>21.778</td>\n",
       "      <td>25.101</td>\n",
       "      <td>20.938</td>\n",
       "      <td>27.793</td>\n",
       "      <td>22.465</td>\n",
       "      <td>22.21</td>\n",
       "      <td>26.246</td>\n",
       "      <td>30.398</td>\n",
       "      <td>0.0</td>\n",
       "    </tr>\n",
       "    <tr>\n",
       "      <th>1.0</th>\n",
       "      <td>33.921</td>\n",
       "      <td>NaN</td>\n",
       "      <td>20.079</td>\n",
       "      <td>37.807</td>\n",
       "      <td>6.721</td>\n",
       "      <td>11.125</td>\n",
       "      <td>7.375</td>\n",
       "      <td>22.518</td>\n",
       "      <td>22.008</td>\n",
       "      <td>7.887</td>\n",
       "      <td>35.038</td>\n",
       "      <td>33.921</td>\n",
       "    </tr>\n",
       "    <tr>\n",
       "      <th>2.0</th>\n",
       "      <td>21.208</td>\n",
       "      <td>20.468</td>\n",
       "      <td>NaN</td>\n",
       "      <td>23.529</td>\n",
       "      <td>19.904</td>\n",
       "      <td>15.741</td>\n",
       "      <td>30.193</td>\n",
       "      <td>1.472</td>\n",
       "      <td>1.217</td>\n",
       "      <td>15.262</td>\n",
       "      <td>20.76</td>\n",
       "      <td>21.208</td>\n",
       "    </tr>\n",
       "    <tr>\n",
       "      <th>3.0</th>\n",
       "      <td>21.777</td>\n",
       "      <td>38.221</td>\n",
       "      <td>23.505</td>\n",
       "      <td>NaN</td>\n",
       "      <td>41.977</td>\n",
       "      <td>29.882</td>\n",
       "      <td>47.947</td>\n",
       "      <td>22.816</td>\n",
       "      <td>22.306</td>\n",
       "      <td>33.016</td>\n",
       "      <td>7.322</td>\n",
       "      <td>21.777</td>\n",
       "    </tr>\n",
       "    <tr>\n",
       "      <th>4.0</th>\n",
       "      <td>25.103</td>\n",
       "      <td>6.08</td>\n",
       "      <td>23.258</td>\n",
       "      <td>40.985</td>\n",
       "      <td>NaN</td>\n",
       "      <td>4.991</td>\n",
       "      <td>3.722</td>\n",
       "      <td>25.697</td>\n",
       "      <td>25.186</td>\n",
       "      <td>7.162</td>\n",
       "      <td>38.216</td>\n",
       "      <td>25.103</td>\n",
       "    </tr>\n",
       "    <tr>\n",
       "      <th>5.0</th>\n",
       "      <td>22.096</td>\n",
       "      <td>9.985</td>\n",
       "      <td>16.359</td>\n",
       "      <td>35.006</td>\n",
       "      <td>4.538</td>\n",
       "      <td>NaN</td>\n",
       "      <td>10.398</td>\n",
       "      <td>17.366</td>\n",
       "      <td>16.855</td>\n",
       "      <td>7.862</td>\n",
       "      <td>32.237</td>\n",
       "      <td>22.096</td>\n",
       "    </tr>\n",
       "    <tr>\n",
       "      <th>6.0</th>\n",
       "      <td>28.136</td>\n",
       "      <td>7.95</td>\n",
       "      <td>29.36</td>\n",
       "      <td>47.087</td>\n",
       "      <td>3.734</td>\n",
       "      <td>11.955</td>\n",
       "      <td>NaN</td>\n",
       "      <td>31.798</td>\n",
       "      <td>31.288</td>\n",
       "      <td>10.23</td>\n",
       "      <td>44.318</td>\n",
       "      <td>28.136</td>\n",
       "    </tr>\n",
       "    <tr>\n",
       "      <th>7.0</th>\n",
       "      <td>22.521</td>\n",
       "      <td>22.911</td>\n",
       "      <td>1.453</td>\n",
       "      <td>22.823</td>\n",
       "      <td>21.39</td>\n",
       "      <td>17.227</td>\n",
       "      <td>32.637</td>\n",
       "      <td>NaN</td>\n",
       "      <td>0.51</td>\n",
       "      <td>17.706</td>\n",
       "      <td>20.054</td>\n",
       "      <td>22.521</td>\n",
       "    </tr>\n",
       "    <tr>\n",
       "      <th>8.0</th>\n",
       "      <td>22.267</td>\n",
       "      <td>22.401</td>\n",
       "      <td>1.199</td>\n",
       "      <td>22.312</td>\n",
       "      <td>20.879</td>\n",
       "      <td>16.716</td>\n",
       "      <td>32.126</td>\n",
       "      <td>0.51</td>\n",
       "      <td>NaN</td>\n",
       "      <td>17.195</td>\n",
       "      <td>19.543</td>\n",
       "      <td>22.267</td>\n",
       "    </tr>\n",
       "    <tr>\n",
       "      <th>9.0</th>\n",
       "      <td>27.286</td>\n",
       "      <td>7.995</td>\n",
       "      <td>16.838</td>\n",
       "      <td>34.565</td>\n",
       "      <td>7.461</td>\n",
       "      <td>7.821</td>\n",
       "      <td>10.369</td>\n",
       "      <td>19.277</td>\n",
       "      <td>18.767</td>\n",
       "      <td>NaN</td>\n",
       "      <td>31.797</td>\n",
       "      <td>27.286</td>\n",
       "    </tr>\n",
       "    <tr>\n",
       "      <th>10.0</th>\n",
       "      <td>30.313</td>\n",
       "      <td>34.767</td>\n",
       "      <td>20.05</td>\n",
       "      <td>7.257</td>\n",
       "      <td>38.523</td>\n",
       "      <td>32.3</td>\n",
       "      <td>44.493</td>\n",
       "      <td>19.362</td>\n",
       "      <td>18.852</td>\n",
       "      <td>29.562</td>\n",
       "      <td>NaN</td>\n",
       "      <td>30.313</td>\n",
       "    </tr>\n",
       "    <tr>\n",
       "      <th>11.0</th>\n",
       "      <td>0.0</td>\n",
       "      <td>36.39</td>\n",
       "      <td>21.133</td>\n",
       "      <td>21.778</td>\n",
       "      <td>25.101</td>\n",
       "      <td>20.938</td>\n",
       "      <td>27.793</td>\n",
       "      <td>22.465</td>\n",
       "      <td>22.21</td>\n",
       "      <td>26.246</td>\n",
       "      <td>30.398</td>\n",
       "      <td>NaN</td>\n",
       "    </tr>\n",
       "  </tbody>\n",
       "</table>\n",
       "</div>"
      ],
      "text/plain": [
       "        0.0     1.0     2.0     3.0     4.0     5.0     6.0     7.0     8.0   \\\n",
       "0.0      NaN   36.39  21.133  21.778  25.101  20.938  27.793  22.465   22.21   \n",
       "1.0   33.921     NaN  20.079  37.807   6.721  11.125   7.375  22.518  22.008   \n",
       "2.0   21.208  20.468     NaN  23.529  19.904  15.741  30.193   1.472   1.217   \n",
       "3.0   21.777  38.221  23.505     NaN  41.977  29.882  47.947  22.816  22.306   \n",
       "4.0   25.103    6.08  23.258  40.985     NaN   4.991   3.722  25.697  25.186   \n",
       "5.0   22.096   9.985  16.359  35.006   4.538     NaN  10.398  17.366  16.855   \n",
       "6.0   28.136    7.95   29.36  47.087   3.734  11.955     NaN  31.798  31.288   \n",
       "7.0   22.521  22.911   1.453  22.823   21.39  17.227  32.637     NaN    0.51   \n",
       "8.0   22.267  22.401   1.199  22.312  20.879  16.716  32.126    0.51     NaN   \n",
       "9.0   27.286   7.995  16.838  34.565   7.461   7.821  10.369  19.277  18.767   \n",
       "10.0  30.313  34.767   20.05   7.257  38.523    32.3  44.493  19.362  18.852   \n",
       "11.0     0.0   36.39  21.133  21.778  25.101  20.938  27.793  22.465   22.21   \n",
       "\n",
       "        9.0     10.0    11.0  \n",
       "0.0   26.246  30.398     0.0  \n",
       "1.0    7.887  35.038  33.921  \n",
       "2.0   15.262   20.76  21.208  \n",
       "3.0   33.016   7.322  21.777  \n",
       "4.0    7.162  38.216  25.103  \n",
       "5.0    7.862  32.237  22.096  \n",
       "6.0    10.23  44.318  28.136  \n",
       "7.0   17.706  20.054  22.521  \n",
       "8.0   17.195  19.543  22.267  \n",
       "9.0      NaN  31.797  27.286  \n",
       "10.0  29.562     NaN  30.313  \n",
       "11.0  26.246  30.398     NaN  "
      ]
     },
     "metadata": {},
     "output_type": "display_data"
    }
   ],
   "source": [
    "dist_matrix"
   ]
  },
  {
   "cell_type": "code",
   "execution_count": null,
   "metadata": {},
   "outputs": [
    {
     "data": {
      "text/html": [
       "<div>\n",
       "<style scoped>\n",
       "    .dataframe tbody tr th:only-of-type {\n",
       "        vertical-align: middle;\n",
       "    }\n",
       "\n",
       "    .dataframe tbody tr th {\n",
       "        vertical-align: top;\n",
       "    }\n",
       "\n",
       "    .dataframe thead th {\n",
       "        text-align: right;\n",
       "    }\n",
       "</style>\n",
       "<table border=\"1\" class=\"dataframe\">\n",
       "  <thead>\n",
       "    <tr style=\"text-align: right;\">\n",
       "      <th></th>\n",
       "      <th>0.0</th>\n",
       "      <th>1.0</th>\n",
       "      <th>2.0</th>\n",
       "      <th>3.0</th>\n",
       "      <th>4.0</th>\n",
       "      <th>5.0</th>\n",
       "      <th>6.0</th>\n",
       "      <th>7.0</th>\n",
       "      <th>8.0</th>\n",
       "      <th>9.0</th>\n",
       "      <th>10.0</th>\n",
       "      <th>11.0</th>\n",
       "    </tr>\n",
       "  </thead>\n",
       "  <tbody>\n",
       "    <tr>\n",
       "      <th>0.0</th>\n",
       "      <td>NaN</td>\n",
       "      <td>50.0487</td>\n",
       "      <td>31.3937</td>\n",
       "      <td>31.589133</td>\n",
       "      <td>44.523267</td>\n",
       "      <td>34.076467</td>\n",
       "      <td>42.782133</td>\n",
       "      <td>34.129767</td>\n",
       "      <td>32.9927</td>\n",
       "      <td>40.3481</td>\n",
       "      <td>41.058767</td>\n",
       "      <td>0.0</td>\n",
       "    </tr>\n",
       "    <tr>\n",
       "      <th>1.0</th>\n",
       "      <td>51.931967</td>\n",
       "      <td>NaN</td>\n",
       "      <td>26.347967</td>\n",
       "      <td>36.4039</td>\n",
       "      <td>13.4849</td>\n",
       "      <td>21.977367</td>\n",
       "      <td>15.492533</td>\n",
       "      <td>29.066267</td>\n",
       "      <td>27.485033</td>\n",
       "      <td>16.931633</td>\n",
       "      <td>32.015533</td>\n",
       "      <td>51.931967</td>\n",
       "    </tr>\n",
       "    <tr>\n",
       "      <th>2.0</th>\n",
       "      <td>31.109433</td>\n",
       "      <td>26.4368</td>\n",
       "      <td>NaN</td>\n",
       "      <td>29.759167</td>\n",
       "      <td>32.370867</td>\n",
       "      <td>21.9063</td>\n",
       "      <td>32.388633</td>\n",
       "      <td>4.228467</td>\n",
       "      <td>3.109167</td>\n",
       "      <td>24.8378</td>\n",
       "      <td>25.3708</td>\n",
       "      <td>31.109433</td>\n",
       "    </tr>\n",
       "    <tr>\n",
       "      <th>3.0</th>\n",
       "      <td>31.731267</td>\n",
       "      <td>36.155167</td>\n",
       "      <td>29.297233</td>\n",
       "      <td>NaN</td>\n",
       "      <td>42.4801</td>\n",
       "      <td>40.4547</td>\n",
       "      <td>42.089233</td>\n",
       "      <td>28.177933</td>\n",
       "      <td>26.578933</td>\n",
       "      <td>34.5384</td>\n",
       "      <td>13.7514</td>\n",
       "      <td>31.731267</td>\n",
       "    </tr>\n",
       "    <tr>\n",
       "      <th>4.0</th>\n",
       "      <td>45.6248</td>\n",
       "      <td>13.5915</td>\n",
       "      <td>31.908933</td>\n",
       "      <td>41.964867</td>\n",
       "      <td>NaN</td>\n",
       "      <td>13.5382</td>\n",
       "      <td>8.972167</td>\n",
       "      <td>34.627233</td>\n",
       "      <td>33.046</td>\n",
       "      <td>17.3225</td>\n",
       "      <td>37.5765</td>\n",
       "      <td>45.6248</td>\n",
       "    </tr>\n",
       "    <tr>\n",
       "      <th>5.0</th>\n",
       "      <td>34.2186</td>\n",
       "      <td>22.581433</td>\n",
       "      <td>22.6525</td>\n",
       "      <td>40.738967</td>\n",
       "      <td>14.391</td>\n",
       "      <td>NaN</td>\n",
       "      <td>18.690533</td>\n",
       "      <td>25.175367</td>\n",
       "      <td>23.594133</td>\n",
       "      <td>16.274267</td>\n",
       "      <td>36.3506</td>\n",
       "      <td>34.2186</td>\n",
       "    </tr>\n",
       "    <tr>\n",
       "      <th>6.0</th>\n",
       "      <td>43.190767</td>\n",
       "      <td>17.340267</td>\n",
       "      <td>30.842933</td>\n",
       "      <td>40.8811</td>\n",
       "      <td>8.4214</td>\n",
       "      <td>20.5205</td>\n",
       "      <td>NaN</td>\n",
       "      <td>33.561233</td>\n",
       "      <td>31.962233</td>\n",
       "      <td>24.215967</td>\n",
       "      <td>36.5105</td>\n",
       "      <td>43.190767</td>\n",
       "    </tr>\n",
       "    <tr>\n",
       "      <th>7.0</th>\n",
       "      <td>34.023167</td>\n",
       "      <td>28.853067</td>\n",
       "      <td>4.015267</td>\n",
       "      <td>28.284533</td>\n",
       "      <td>35.2313</td>\n",
       "      <td>24.766733</td>\n",
       "      <td>34.8049</td>\n",
       "      <td>NaN</td>\n",
       "      <td>1.634533</td>\n",
       "      <td>27.254067</td>\n",
       "      <td>23.896167</td>\n",
       "      <td>34.023167</td>\n",
       "    </tr>\n",
       "    <tr>\n",
       "      <th>8.0</th>\n",
       "      <td>32.7262</td>\n",
       "      <td>27.218533</td>\n",
       "      <td>2.700533</td>\n",
       "      <td>26.65</td>\n",
       "      <td>33.596767</td>\n",
       "      <td>23.1322</td>\n",
       "      <td>33.170367</td>\n",
       "      <td>1.581233</td>\n",
       "      <td>NaN</td>\n",
       "      <td>25.619533</td>\n",
       "      <td>22.261633</td>\n",
       "      <td>32.7262</td>\n",
       "    </tr>\n",
       "    <tr>\n",
       "      <th>9.0</th>\n",
       "      <td>40.703433</td>\n",
       "      <td>17.020467</td>\n",
       "      <td>26.898733</td>\n",
       "      <td>36.954667</td>\n",
       "      <td>17.944333</td>\n",
       "      <td>16.167667</td>\n",
       "      <td>22.776867</td>\n",
       "      <td>29.617033</td>\n",
       "      <td>28.0358</td>\n",
       "      <td>NaN</td>\n",
       "      <td>32.5663</td>\n",
       "      <td>40.703433</td>\n",
       "    </tr>\n",
       "    <tr>\n",
       "      <th>10.0</th>\n",
       "      <td>42.0004</td>\n",
       "      <td>31.5003</td>\n",
       "      <td>24.642367</td>\n",
       "      <td>14.1245</td>\n",
       "      <td>37.825233</td>\n",
       "      <td>36.172933</td>\n",
       "      <td>37.434367</td>\n",
       "      <td>23.523067</td>\n",
       "      <td>21.924067</td>\n",
       "      <td>29.883533</td>\n",
       "      <td>NaN</td>\n",
       "      <td>42.0004</td>\n",
       "    </tr>\n",
       "    <tr>\n",
       "      <th>11.0</th>\n",
       "      <td>0.0</td>\n",
       "      <td>50.0487</td>\n",
       "      <td>31.3937</td>\n",
       "      <td>31.589133</td>\n",
       "      <td>44.523267</td>\n",
       "      <td>34.076467</td>\n",
       "      <td>42.782133</td>\n",
       "      <td>34.129767</td>\n",
       "      <td>32.9927</td>\n",
       "      <td>40.3481</td>\n",
       "      <td>41.058767</td>\n",
       "      <td>NaN</td>\n",
       "    </tr>\n",
       "  </tbody>\n",
       "</table>\n",
       "</div>"
      ],
      "text/plain": [
       "           0.0        1.0        2.0        3.0        4.0        5.0   \\\n",
       "0.0         NaN    50.0487    31.3937  31.589133  44.523267  34.076467   \n",
       "1.0   51.931967        NaN  26.347967    36.4039    13.4849  21.977367   \n",
       "2.0   31.109433    26.4368        NaN  29.759167  32.370867    21.9063   \n",
       "3.0   31.731267  36.155167  29.297233        NaN    42.4801    40.4547   \n",
       "4.0     45.6248    13.5915  31.908933  41.964867        NaN    13.5382   \n",
       "5.0     34.2186  22.581433    22.6525  40.738967     14.391        NaN   \n",
       "6.0   43.190767  17.340267  30.842933    40.8811     8.4214    20.5205   \n",
       "7.0   34.023167  28.853067   4.015267  28.284533    35.2313  24.766733   \n",
       "8.0     32.7262  27.218533   2.700533      26.65  33.596767    23.1322   \n",
       "9.0   40.703433  17.020467  26.898733  36.954667  17.944333  16.167667   \n",
       "10.0    42.0004    31.5003  24.642367    14.1245  37.825233  36.172933   \n",
       "11.0        0.0    50.0487    31.3937  31.589133  44.523267  34.076467   \n",
       "\n",
       "           6.0        7.0        8.0        9.0        10.0       11.0  \n",
       "0.0   42.782133  34.129767    32.9927    40.3481  41.058767        0.0  \n",
       "1.0   15.492533  29.066267  27.485033  16.931633  32.015533  51.931967  \n",
       "2.0   32.388633   4.228467   3.109167    24.8378    25.3708  31.109433  \n",
       "3.0   42.089233  28.177933  26.578933    34.5384    13.7514  31.731267  \n",
       "4.0    8.972167  34.627233     33.046    17.3225    37.5765    45.6248  \n",
       "5.0   18.690533  25.175367  23.594133  16.274267    36.3506    34.2186  \n",
       "6.0         NaN  33.561233  31.962233  24.215967    36.5105  43.190767  \n",
       "7.0     34.8049        NaN   1.634533  27.254067  23.896167  34.023167  \n",
       "8.0   33.170367   1.581233        NaN  25.619533  22.261633    32.7262  \n",
       "9.0   22.776867  29.617033    28.0358        NaN    32.5663  40.703433  \n",
       "10.0  37.434367  23.523067  21.924067  29.883533        NaN    42.0004  \n",
       "11.0  42.782133  34.129767    32.9927    40.3481  41.058767        NaN  "
      ]
     },
     "metadata": {},
     "output_type": "display_data"
    }
   ],
   "source": [
    "time_matrix"
   ]
  },
  {
   "cell_type": "markdown",
   "metadata": {},
   "source": [
    "## Time window"
   ]
  },
  {
   "cell_type": "code",
   "execution_count": null,
   "metadata": {},
   "outputs": [
    {
     "name": "stderr",
     "output_type": "stream",
     "text": [
      "/usr/local/lib/python3.7/site-packages/pandas/core/frame.py:5047: SettingWithCopyWarning: \n",
      "A value is trying to be set on a copy of a slice from a DataFrame\n",
      "\n",
      "See the caveats in the documentation: https://pandas.pydata.org/pandas-docs/stable/user_guide/indexing.html#returning-a-view-versus-a-copy\n",
      "  errors=errors,\n"
     ]
    }
   ],
   "source": [
    "tw = df[['tw_start_mins', 'tw_end_mins', 'ORDER_INDEX']]\n",
    "tw.rename(columns={'tw_start_mins':'a', 'tw_end_mins':'b'}, inplace=True)\n",
    "\n",
    "# set depot\n",
    "tw = tw.append({'a':0, 'b':1379, 'ORDER_INDEX':0}, ignore_index=True)\n",
    "tw = tw.append({'a':0, 'b':1379, 'ORDER_INDEX':11}, ignore_index=True)\n",
    "\n",
    "tw = tw.sort_values('ORDER_INDEX')\n",
    "tw = tw.reset_index(drop=True)"
   ]
  },
  {
   "cell_type": "code",
   "execution_count": null,
   "metadata": {},
   "outputs": [
    {
     "data": {
      "text/html": [
       "<div>\n",
       "<style scoped>\n",
       "    .dataframe tbody tr th:only-of-type {\n",
       "        vertical-align: middle;\n",
       "    }\n",
       "\n",
       "    .dataframe tbody tr th {\n",
       "        vertical-align: top;\n",
       "    }\n",
       "\n",
       "    .dataframe thead th {\n",
       "        text-align: right;\n",
       "    }\n",
       "</style>\n",
       "<table border=\"1\" class=\"dataframe\">\n",
       "  <thead>\n",
       "    <tr style=\"text-align: right;\">\n",
       "      <th></th>\n",
       "      <th>a</th>\n",
       "      <th>b</th>\n",
       "      <th>ORDER_INDEX</th>\n",
       "    </tr>\n",
       "  </thead>\n",
       "  <tbody>\n",
       "    <tr>\n",
       "      <th>0</th>\n",
       "      <td>0</td>\n",
       "      <td>1379</td>\n",
       "      <td>0</td>\n",
       "    </tr>\n",
       "    <tr>\n",
       "      <th>1</th>\n",
       "      <td>600</td>\n",
       "      <td>960</td>\n",
       "      <td>1</td>\n",
       "    </tr>\n",
       "    <tr>\n",
       "      <th>2</th>\n",
       "      <td>540</td>\n",
       "      <td>840</td>\n",
       "      <td>2</td>\n",
       "    </tr>\n",
       "    <tr>\n",
       "      <th>3</th>\n",
       "      <td>840</td>\n",
       "      <td>900</td>\n",
       "      <td>3</td>\n",
       "    </tr>\n",
       "    <tr>\n",
       "      <th>4</th>\n",
       "      <td>420</td>\n",
       "      <td>480</td>\n",
       "      <td>4</td>\n",
       "    </tr>\n",
       "    <tr>\n",
       "      <th>5</th>\n",
       "      <td>420</td>\n",
       "      <td>600</td>\n",
       "      <td>5</td>\n",
       "    </tr>\n",
       "    <tr>\n",
       "      <th>6</th>\n",
       "      <td>0</td>\n",
       "      <td>1379</td>\n",
       "      <td>6</td>\n",
       "    </tr>\n",
       "    <tr>\n",
       "      <th>7</th>\n",
       "      <td>0</td>\n",
       "      <td>1379</td>\n",
       "      <td>7</td>\n",
       "    </tr>\n",
       "    <tr>\n",
       "      <th>8</th>\n",
       "      <td>0</td>\n",
       "      <td>1379</td>\n",
       "      <td>8</td>\n",
       "    </tr>\n",
       "    <tr>\n",
       "      <th>9</th>\n",
       "      <td>0</td>\n",
       "      <td>1379</td>\n",
       "      <td>9</td>\n",
       "    </tr>\n",
       "    <tr>\n",
       "      <th>10</th>\n",
       "      <td>0</td>\n",
       "      <td>1379</td>\n",
       "      <td>10</td>\n",
       "    </tr>\n",
       "    <tr>\n",
       "      <th>11</th>\n",
       "      <td>0</td>\n",
       "      <td>1379</td>\n",
       "      <td>11</td>\n",
       "    </tr>\n",
       "  </tbody>\n",
       "</table>\n",
       "</div>"
      ],
      "text/plain": [
       "      a     b  ORDER_INDEX\n",
       "0     0  1379            0\n",
       "1   600   960            1\n",
       "2   540   840            2\n",
       "3   840   900            3\n",
       "4   420   480            4\n",
       "5   420   600            5\n",
       "6     0  1379            6\n",
       "7     0  1379            7\n",
       "8     0  1379            8\n",
       "9     0  1379            9\n",
       "10    0  1379           10\n",
       "11    0  1379           11"
      ]
     },
     "metadata": {},
     "output_type": "display_data"
    }
   ],
   "source": [
    "tw"
   ]
  },
  {
   "cell_type": "markdown",
   "metadata": {},
   "source": [
    "# Model1: Min-max"
   ]
  },
  {
   "cell_type": "markdown",
   "metadata": {},
   "source": [
    "## Problem"
   ]
  },
  {
   "cell_type": "code",
   "execution_count": 15,
   "metadata": {},
   "outputs": [
    {
     "name": "stdout",
     "output_type": "stream",
     "text": [
      "Set parameter Username\n",
      "Academic license - for non-commercial use only - expires 2025-07-17\n"
     ]
    }
   ],
   "source": [
    "prob = gp.Model(\"Min_Z\")"
   ]
  },
  {
   "cell_type": "markdown",
   "metadata": {},
   "source": [
    "## Variables"
   ]
  },
  {
   "cell_type": "code",
   "execution_count": 16,
   "metadata": {},
   "outputs": [],
   "source": [
    "x = prob.addVars(n, n, vtype=GRB.BINARY, name='x')\n",
    "\n",
    "z = prob.addVar(lb=0, vtype=GRB.CONTINUOUS, name='z')\n",
    "\n",
    "ta = prob.addVars(len(n), lb=0, vtype=GRB.CONTINUOUS, name='ta')    # time arriving to the point\n",
    "ts = prob.addVars(len(n), lb=0, vtype=GRB.CONTINUOUS, name='ts')    # time starting to service\n",
    "\n",
    "late = prob.addVars(len(n), lb=0, vtype=GRB.CONTINUOUS, name='late')\n",
    "\n",
    "total_penalty = prob.addVar(lb=0, vtype=GRB.CONTINUOUS, name='total_penalty')\n",
    "total_dist = prob.addVar(lb=0, vtype=GRB.CONTINUOUS, name='total_dist')\n",
    "\n",
    "# late_a = prob.addVars(len(n), vtype=GRB.BINARY, name='late_a')   # whether arrival time later than late time window"
   ]
  },
  {
   "cell_type": "markdown",
   "metadata": {},
   "source": [
    "## Objective function"
   ]
  },
  {
   "cell_type": "markdown",
   "metadata": {},
   "source": [
    "eq1, eq2"
   ]
  },
  {
   "cell_type": "code",
   "execution_count": 17,
   "metadata": {},
   "outputs": [],
   "source": [
    "prob.ModelSense = GRB.MINIMIZE\n",
    "prob.setObjectiveN(z, 0, 1)\n",
    "prob.setObjectiveN(total_dist, 1, 0)"
   ]
  },
  {
   "cell_type": "code",
   "execution_count": 18,
   "metadata": {},
   "outputs": [
    {
     "data": {
      "text/plain": [
       "<gurobi.Constr *Awaiting Model Update*>"
      ]
     },
     "execution_count": 18,
     "metadata": {},
     "output_type": "execute_result"
    }
   ],
   "source": [
    "prob.addConstr(total_dist == gp.quicksum(x[i, j] * dist_matrix[i][j] for i in p for j in p if i != j))"
   ]
  },
  {
   "cell_type": "markdown",
   "metadata": {},
   "source": [
    "## Constraints"
   ]
  },
  {
   "cell_type": "markdown",
   "metadata": {},
   "source": [
    "### Cost"
   ]
  },
  {
   "cell_type": "code",
   "execution_count": 19,
   "metadata": {},
   "outputs": [],
   "source": [
    "def penalty_late(time_diff):\n",
    "    return 0.2 * time_diff"
   ]
  },
  {
   "cell_type": "markdown",
   "metadata": {},
   "source": [
    "eq3"
   ]
  },
  {
   "cell_type": "code",
   "execution_count": 20,
   "metadata": {},
   "outputs": [
    {
     "data": {
      "text/plain": [
       "{1: <gurobi.Constr *Awaiting Model Update*>,\n",
       " 2: <gurobi.Constr *Awaiting Model Update*>,\n",
       " 3: <gurobi.Constr *Awaiting Model Update*>,\n",
       " 4: <gurobi.Constr *Awaiting Model Update*>,\n",
       " 5: <gurobi.Constr *Awaiting Model Update*>,\n",
       " 6: <gurobi.Constr *Awaiting Model Update*>,\n",
       " 7: <gurobi.Constr *Awaiting Model Update*>,\n",
       " 8: <gurobi.Constr *Awaiting Model Update*>,\n",
       " 9: <gurobi.Constr *Awaiting Model Update*>,\n",
       " 10: <gurobi.Constr *Awaiting Model Update*>}"
      ]
     },
     "execution_count": 20,
     "metadata": {},
     "output_type": "execute_result"
    }
   ],
   "source": [
    "prob.addConstrs((late[i] >= (ta[i] - tw['b'][i]) for i in p), name='eq18')"
   ]
  },
  {
   "cell_type": "markdown",
   "metadata": {},
   "source": [
    "eq3"
   ]
  },
  {
   "cell_type": "code",
   "execution_count": 21,
   "metadata": {},
   "outputs": [
    {
     "data": {
      "text/plain": [
       "{1: <gurobi.Constr *Awaiting Model Update*>,\n",
       " 2: <gurobi.Constr *Awaiting Model Update*>,\n",
       " 3: <gurobi.Constr *Awaiting Model Update*>,\n",
       " 4: <gurobi.Constr *Awaiting Model Update*>,\n",
       " 5: <gurobi.Constr *Awaiting Model Update*>}"
      ]
     },
     "execution_count": 21,
     "metadata": {},
     "output_type": "execute_result"
    }
   ],
   "source": [
    "total_penalty = gp.quicksum(penalty_late(late[i]) for i in p)\n",
    "prob.addConstrs((z >= late[i] + late[i+order_cnt] + total_penalty for i in p_plus), name='eq3')"
   ]
  },
  {
   "cell_type": "markdown",
   "metadata": {},
   "source": [
    "### Path"
   ]
  },
  {
   "cell_type": "markdown",
   "metadata": {},
   "source": [
    "eq4, eq5, eq6, eq7, eq8, eq9"
   ]
  },
  {
   "cell_type": "code",
   "execution_count": 22,
   "metadata": {},
   "outputs": [
    {
     "data": {
      "text/plain": [
       "<gurobi.Constr *Awaiting Model Update*>"
      ]
     },
     "execution_count": 22,
     "metadata": {},
     "output_type": "execute_result"
    }
   ],
   "source": [
    "prob.addConstrs((gp.quicksum(x[i, j] for j in n_minus if i != j) == 1 for i in n_plus), name='eq4')\n",
    "prob.addConstrs((gp.quicksum(x[i, j] for i in n_plus if i != j) == 1 for j in n_minus), name='eq5')\n",
    "\n",
    "prob.addConstr((gp.quicksum(x[0, j] for j in p_plus) == 1), name='eq6')\n",
    "prob.addConstr((gp.quicksum(x[i, len(n_plus)] for i in p_minus) == 1), name='eq7')\n",
    "\n",
    "prob.addConstr((gp.quicksum(x[i, 0] for i in n_minus) == 0), name='eq8')\n",
    "prob.addConstr((gp.quicksum(x[len(n_plus), i] for i in n_plus) == 0), name='eq9')"
   ]
  },
  {
   "cell_type": "markdown",
   "metadata": {},
   "source": [
    "### Precedence"
   ]
  },
  {
   "cell_type": "markdown",
   "metadata": {},
   "source": [
    "eq10"
   ]
  },
  {
   "cell_type": "code",
   "execution_count": 23,
   "metadata": {},
   "outputs": [
    {
     "data": {
      "text/plain": [
       "{1: <gurobi.Constr *Awaiting Model Update*>,\n",
       " 2: <gurobi.Constr *Awaiting Model Update*>,\n",
       " 3: <gurobi.Constr *Awaiting Model Update*>,\n",
       " 4: <gurobi.Constr *Awaiting Model Update*>,\n",
       " 5: <gurobi.Constr *Awaiting Model Update*>}"
      ]
     },
     "execution_count": 23,
     "metadata": {},
     "output_type": "execute_result"
    }
   ],
   "source": [
    "prob.addConstrs((ta[i] + svc + time_matrix[i][i + order_cnt] <= ta[i + order_cnt] for i in p_plus), name='eq10')"
   ]
  },
  {
   "cell_type": "markdown",
   "metadata": {},
   "source": [
    "eq11, eq12, eq17"
   ]
  },
  {
   "cell_type": "code",
   "execution_count": 24,
   "metadata": {},
   "outputs": [
    {
     "data": {
      "text/plain": [
       "{1: <gurobi.Constr *Awaiting Model Update*>,\n",
       " 2: <gurobi.Constr *Awaiting Model Update*>,\n",
       " 3: <gurobi.Constr *Awaiting Model Update*>,\n",
       " 4: <gurobi.Constr *Awaiting Model Update*>,\n",
       " 5: <gurobi.Constr *Awaiting Model Update*>}"
      ]
     },
     "execution_count": 24,
     "metadata": {},
     "output_type": "execute_result"
    }
   ],
   "source": [
    "prob.addConstrs((ts[0] + time_matrix[0][j] - ta[j] <= M * (1 - x[0, j]) for j in p_plus), name='eq12')\n",
    "prob.addConstrs((ts[0] + time_matrix[0][j] - ta[j] >= -M * (1 - x[0, j]) for j in p_plus), name='eq12')"
   ]
  },
  {
   "cell_type": "code",
   "execution_count": 25,
   "metadata": {},
   "outputs": [
    {
     "data": {
      "text/plain": [
       "{(1, 2): <gurobi.Constr *Awaiting Model Update*>,\n",
       " (1, 3): <gurobi.Constr *Awaiting Model Update*>,\n",
       " (1, 4): <gurobi.Constr *Awaiting Model Update*>,\n",
       " (1, 5): <gurobi.Constr *Awaiting Model Update*>,\n",
       " (1, 6): <gurobi.Constr *Awaiting Model Update*>,\n",
       " (1, 7): <gurobi.Constr *Awaiting Model Update*>,\n",
       " (1, 8): <gurobi.Constr *Awaiting Model Update*>,\n",
       " (1, 9): <gurobi.Constr *Awaiting Model Update*>,\n",
       " (1, 10): <gurobi.Constr *Awaiting Model Update*>,\n",
       " (1, 11): <gurobi.Constr *Awaiting Model Update*>,\n",
       " (2, 1): <gurobi.Constr *Awaiting Model Update*>,\n",
       " (2, 3): <gurobi.Constr *Awaiting Model Update*>,\n",
       " (2, 4): <gurobi.Constr *Awaiting Model Update*>,\n",
       " (2, 5): <gurobi.Constr *Awaiting Model Update*>,\n",
       " (2, 6): <gurobi.Constr *Awaiting Model Update*>,\n",
       " (2, 7): <gurobi.Constr *Awaiting Model Update*>,\n",
       " (2, 8): <gurobi.Constr *Awaiting Model Update*>,\n",
       " (2, 9): <gurobi.Constr *Awaiting Model Update*>,\n",
       " (2, 10): <gurobi.Constr *Awaiting Model Update*>,\n",
       " (2, 11): <gurobi.Constr *Awaiting Model Update*>,\n",
       " (3, 1): <gurobi.Constr *Awaiting Model Update*>,\n",
       " (3, 2): <gurobi.Constr *Awaiting Model Update*>,\n",
       " (3, 4): <gurobi.Constr *Awaiting Model Update*>,\n",
       " (3, 5): <gurobi.Constr *Awaiting Model Update*>,\n",
       " (3, 6): <gurobi.Constr *Awaiting Model Update*>,\n",
       " (3, 7): <gurobi.Constr *Awaiting Model Update*>,\n",
       " (3, 8): <gurobi.Constr *Awaiting Model Update*>,\n",
       " (3, 9): <gurobi.Constr *Awaiting Model Update*>,\n",
       " (3, 10): <gurobi.Constr *Awaiting Model Update*>,\n",
       " (3, 11): <gurobi.Constr *Awaiting Model Update*>,\n",
       " (4, 1): <gurobi.Constr *Awaiting Model Update*>,\n",
       " (4, 2): <gurobi.Constr *Awaiting Model Update*>,\n",
       " (4, 3): <gurobi.Constr *Awaiting Model Update*>,\n",
       " (4, 5): <gurobi.Constr *Awaiting Model Update*>,\n",
       " (4, 6): <gurobi.Constr *Awaiting Model Update*>,\n",
       " (4, 7): <gurobi.Constr *Awaiting Model Update*>,\n",
       " (4, 8): <gurobi.Constr *Awaiting Model Update*>,\n",
       " (4, 9): <gurobi.Constr *Awaiting Model Update*>,\n",
       " (4, 10): <gurobi.Constr *Awaiting Model Update*>,\n",
       " (4, 11): <gurobi.Constr *Awaiting Model Update*>,\n",
       " (5, 1): <gurobi.Constr *Awaiting Model Update*>,\n",
       " (5, 2): <gurobi.Constr *Awaiting Model Update*>,\n",
       " (5, 3): <gurobi.Constr *Awaiting Model Update*>,\n",
       " (5, 4): <gurobi.Constr *Awaiting Model Update*>,\n",
       " (5, 6): <gurobi.Constr *Awaiting Model Update*>,\n",
       " (5, 7): <gurobi.Constr *Awaiting Model Update*>,\n",
       " (5, 8): <gurobi.Constr *Awaiting Model Update*>,\n",
       " (5, 9): <gurobi.Constr *Awaiting Model Update*>,\n",
       " (5, 10): <gurobi.Constr *Awaiting Model Update*>,\n",
       " (5, 11): <gurobi.Constr *Awaiting Model Update*>,\n",
       " (6, 1): <gurobi.Constr *Awaiting Model Update*>,\n",
       " (6, 2): <gurobi.Constr *Awaiting Model Update*>,\n",
       " (6, 3): <gurobi.Constr *Awaiting Model Update*>,\n",
       " (6, 4): <gurobi.Constr *Awaiting Model Update*>,\n",
       " (6, 5): <gurobi.Constr *Awaiting Model Update*>,\n",
       " (6, 7): <gurobi.Constr *Awaiting Model Update*>,\n",
       " (6, 8): <gurobi.Constr *Awaiting Model Update*>,\n",
       " (6, 9): <gurobi.Constr *Awaiting Model Update*>,\n",
       " (6, 10): <gurobi.Constr *Awaiting Model Update*>,\n",
       " (6, 11): <gurobi.Constr *Awaiting Model Update*>,\n",
       " (7, 1): <gurobi.Constr *Awaiting Model Update*>,\n",
       " (7, 2): <gurobi.Constr *Awaiting Model Update*>,\n",
       " (7, 3): <gurobi.Constr *Awaiting Model Update*>,\n",
       " (7, 4): <gurobi.Constr *Awaiting Model Update*>,\n",
       " (7, 5): <gurobi.Constr *Awaiting Model Update*>,\n",
       " (7, 6): <gurobi.Constr *Awaiting Model Update*>,\n",
       " (7, 8): <gurobi.Constr *Awaiting Model Update*>,\n",
       " (7, 9): <gurobi.Constr *Awaiting Model Update*>,\n",
       " (7, 10): <gurobi.Constr *Awaiting Model Update*>,\n",
       " (7, 11): <gurobi.Constr *Awaiting Model Update*>,\n",
       " (8, 1): <gurobi.Constr *Awaiting Model Update*>,\n",
       " (8, 2): <gurobi.Constr *Awaiting Model Update*>,\n",
       " (8, 3): <gurobi.Constr *Awaiting Model Update*>,\n",
       " (8, 4): <gurobi.Constr *Awaiting Model Update*>,\n",
       " (8, 5): <gurobi.Constr *Awaiting Model Update*>,\n",
       " (8, 6): <gurobi.Constr *Awaiting Model Update*>,\n",
       " (8, 7): <gurobi.Constr *Awaiting Model Update*>,\n",
       " (8, 9): <gurobi.Constr *Awaiting Model Update*>,\n",
       " (8, 10): <gurobi.Constr *Awaiting Model Update*>,\n",
       " (8, 11): <gurobi.Constr *Awaiting Model Update*>,\n",
       " (9, 1): <gurobi.Constr *Awaiting Model Update*>,\n",
       " (9, 2): <gurobi.Constr *Awaiting Model Update*>,\n",
       " (9, 3): <gurobi.Constr *Awaiting Model Update*>,\n",
       " (9, 4): <gurobi.Constr *Awaiting Model Update*>,\n",
       " (9, 5): <gurobi.Constr *Awaiting Model Update*>,\n",
       " (9, 6): <gurobi.Constr *Awaiting Model Update*>,\n",
       " (9, 7): <gurobi.Constr *Awaiting Model Update*>,\n",
       " (9, 8): <gurobi.Constr *Awaiting Model Update*>,\n",
       " (9, 10): <gurobi.Constr *Awaiting Model Update*>,\n",
       " (9, 11): <gurobi.Constr *Awaiting Model Update*>,\n",
       " (10, 1): <gurobi.Constr *Awaiting Model Update*>,\n",
       " (10, 2): <gurobi.Constr *Awaiting Model Update*>,\n",
       " (10, 3): <gurobi.Constr *Awaiting Model Update*>,\n",
       " (10, 4): <gurobi.Constr *Awaiting Model Update*>,\n",
       " (10, 5): <gurobi.Constr *Awaiting Model Update*>,\n",
       " (10, 6): <gurobi.Constr *Awaiting Model Update*>,\n",
       " (10, 7): <gurobi.Constr *Awaiting Model Update*>,\n",
       " (10, 8): <gurobi.Constr *Awaiting Model Update*>,\n",
       " (10, 9): <gurobi.Constr *Awaiting Model Update*>,\n",
       " (10, 11): <gurobi.Constr *Awaiting Model Update*>}"
      ]
     },
     "execution_count": 25,
     "metadata": {},
     "output_type": "execute_result"
    }
   ],
   "source": [
    "prob.addConstrs((ts[i] + svc + time_matrix[i][j] - ta[j] <= M * (1 - x[i, j]) for i in n_plus for j in n_minus if i != 0 and i != j), name='eq11')\n",
    "prob.addConstrs((ts[i] + svc + time_matrix[i][j] - ta[j] >= -M * (1 - x[i, j]) for i in n_plus for j in n_minus if i != 0 and i != j), name='eq11')"
   ]
  },
  {
   "cell_type": "code",
   "execution_count": 26,
   "metadata": {},
   "outputs": [
    {
     "data": {
      "text/plain": [
       "{1: <gurobi.GenConstr *Awaiting Model Update*>,\n",
       " 2: <gurobi.GenConstr *Awaiting Model Update*>,\n",
       " 3: <gurobi.GenConstr *Awaiting Model Update*>,\n",
       " 4: <gurobi.GenConstr *Awaiting Model Update*>,\n",
       " 5: <gurobi.GenConstr *Awaiting Model Update*>,\n",
       " 6: <gurobi.GenConstr *Awaiting Model Update*>,\n",
       " 7: <gurobi.GenConstr *Awaiting Model Update*>,\n",
       " 8: <gurobi.GenConstr *Awaiting Model Update*>,\n",
       " 9: <gurobi.GenConstr *Awaiting Model Update*>,\n",
       " 10: <gurobi.GenConstr *Awaiting Model Update*>}"
      ]
     },
     "execution_count": 26,
     "metadata": {},
     "output_type": "execute_result"
    }
   ],
   "source": [
    "prob.addConstrs((ts[i] == gp.max_([tw['a'][i], ta[i]]) for i in p), name='eq17')"
   ]
  },
  {
   "cell_type": "markdown",
   "metadata": {},
   "source": [
    "## Solution"
   ]
  },
  {
   "cell_type": "code",
   "execution_count": 27,
   "metadata": {},
   "outputs": [
    {
     "name": "stdout",
     "output_type": "stream",
     "text": [
      "Gurobi Optimizer version 10.0.3 build v10.0.3rc0 (mac64[rosetta2])\n",
      "\n",
      "CPU model: Apple M2\n",
      "Thread count: 8 physical cores, 8 logical processors, using up to 8 threads\n",
      "\n",
      "Optimize a model with 257 rows, 183 columns and 1060 nonzeros\n",
      "Model fingerprint: 0xdc040a25\n",
      "Model has 10 general constraints\n",
      "Variable types: 39 continuous, 144 integer (144 binary)\n",
      "Coefficient statistics:\n",
      "  Matrix range     [2e-01, 1e+04]\n",
      "  Objective range  [1e+00, 1e+00]\n",
      "  Bounds range     [1e+00, 1e+00]\n",
      "  RHS range        [1e+00, 1e+04]\n",
      "  GenCon const rng [4e+02, 8e+02]\n",
      "\n",
      "---------------------------------------------------------------------------\n",
      "Multi-objectives: starting optimization with 2 objectives ... \n",
      "---------------------------------------------------------------------------\n",
      "\n",
      "Multi-objectives: applying initial presolve ...\n",
      "---------------------------------------------------------------------------\n",
      "\n",
      "Presolve added 10 rows and 0 columns\n",
      "Presolve removed 0 rows and 23 columns\n",
      "Presolve time: 0.03s\n",
      "Presolved: 267 rows and 160 columns\n",
      "---------------------------------------------------------------------------\n",
      "\n",
      "Multi-objectives: optimize objective 1 () ...\n",
      "---------------------------------------------------------------------------\n",
      "\n",
      "Presolve removed 5 rows and 22 columns\n",
      "Presolve time: 0.00s\n",
      "Presolved: 262 rows, 138 columns, 930 nonzeros\n",
      "Presolved model has 5 SOS constraint(s)\n",
      "Variable types: 33 continuous, 105 integer (105 binary)\n",
      "\n",
      "Root relaxation: objective 0.000000e+00, 57 iterations, 0.00 seconds (0.00 work units)\n",
      "\n",
      "    Nodes    |    Current Node    |     Objective Bounds      |     Work\n",
      " Expl Unexpl |  Obj  Depth IntInf | Incumbent    BestBd   Gap | It/Node Time\n",
      "\n",
      "     0     0    0.00000    0    6          -    0.00000      -     -    0s\n",
      "H    0     0                     416.4000320    0.00000   100%     -    0s\n",
      "H    0     0                     348.6758400    0.00000   100%     -    0s\n",
      "     0     0    0.00000    0   16  348.67584    0.00000   100%     -    0s\n",
      "H    0     0                      69.8472000    0.00000   100%     -    0s\n",
      "H    0     0                       0.0000000    0.00000  0.00%     -    0s\n",
      "     0     0    0.00000    0   16    0.00000    0.00000  0.00%     -    0s\n",
      "\n",
      "Cutting planes:\n",
      "  Learned: 1\n",
      "  Gomory: 2\n",
      "  MIR: 1\n",
      "\n",
      "Explored 1 nodes (366 simplex iterations) in 0.17 seconds (0.02 work units)\n",
      "Thread count was 8 (of 8 available processors)\n",
      "\n",
      "Solution count 4: 0 69.8472 348.676 416.4 \n",
      "\n",
      "Optimal solution found (tolerance 1.00e-04)\n",
      "Best objective 0.000000000000e+00, best bound 0.000000000000e+00, gap 0.0000%\n",
      "---------------------------------------------------------------------------\n",
      "\n",
      "Multi-objectives: optimize objective 2 () ...\n",
      "---------------------------------------------------------------------------\n",
      "\n",
      "\n",
      "Loaded user MIP start with objective 137.713\n",
      "\n",
      "Presolve removed 33 rows and 34 columns\n",
      "Presolve time: 0.01s\n",
      "Presolved: 235 rows, 126 columns, 1588 nonzeros\n",
      "Variable types: 32 continuous, 94 integer (94 binary)\n",
      "\n",
      "Root relaxation: objective 4.243047e+01, 54 iterations, 0.00 seconds (0.00 work units)\n",
      "\n",
      "    Nodes    |    Current Node    |     Objective Bounds      |     Work\n",
      " Expl Unexpl |  Obj  Depth IntInf | Incumbent    BestBd   Gap | It/Node Time\n",
      "\n",
      "     0     0   42.43047    0   22  137.71300   42.43047  69.2%     -    0s\n",
      "     0     0   64.88500    0   19  137.71300   64.88500  52.9%     -    0s\n",
      "     0     0   64.88500    0   19  137.71300   64.88500  52.9%     -    0s\n",
      "H    0     0                     123.1640000   64.88500  47.3%     -    0s\n",
      "     0     0   64.88614    0   16  123.16400   64.88614  47.3%     -    0s\n",
      "H    0     0                     114.2650000   64.88614  43.2%     -    0s\n",
      "     0     0   67.32411    0   20  114.26500   67.32411  41.1%     -    0s\n",
      "     0     0   68.27102    0   20  114.26500   68.27102  40.3%     -    0s\n",
      "     0     0   70.27300    0   15  114.26500   70.27300  38.5%     -    0s\n",
      "     0     0   70.65070    0   15  114.26500   70.65070  38.2%     -    0s\n",
      "     0     0   72.38142    0   23  114.26500   72.38142  36.7%     -    0s\n",
      "     0     0   72.89756    0   23  114.26500   72.89756  36.2%     -    0s\n",
      "     0     0   74.77734    0   24  114.26500   74.77734  34.6%     -    0s\n",
      "     0     0   75.16581    0   24  114.26500   75.16581  34.2%     -    0s\n",
      "     0     0   76.74282    0   25  114.26500   76.74282  32.8%     -    0s\n",
      "     0     0   76.88345    0   23  114.26500   76.88345  32.7%     -    0s\n",
      "     0     2   76.88345    0   23  114.26500   76.88345  32.7%     -    0s\n",
      "H    7    15                     108.1510000   76.88345  28.9%  15.4    0s\n",
      "H   15    21                      99.2810000   76.88345  22.6%  16.3    0s\n",
      "H   37    26                      95.3610000   76.88345  19.4%  12.7    0s\n",
      "*  241    20              10      95.1060000   84.01275  11.7%   9.8    0s\n",
      "\n",
      "Cutting planes:\n",
      "  Learned: 2\n",
      "  Cover: 13\n",
      "  Implied bound: 9\n",
      "  Clique: 2\n",
      "  MIR: 5\n",
      "  StrongCG: 1\n",
      "  Flow cover: 12\n",
      "  GUB cover: 4\n",
      "  Inf proof: 1\n",
      "  RLT: 5\n",
      "  Relax-and-lift: 9\n",
      "\n",
      "Explored 280 nodes (2953 simplex iterations) in 0.44 seconds (0.12 work units)\n",
      "Thread count was 8 (of 8 available processors)\n",
      "\n",
      "Solution count 7: 95.106 95.361 99.281 ... 137.713\n",
      "\n",
      "Optimal solution found (tolerance 1.00e-04)\n",
      "Best objective 9.510600000000e+01, best bound 9.510600000000e+01, gap 0.0000%\n",
      "\n",
      "---------------------------------------------------------------------------\n",
      "Multi-objectives: solved in 0.45 seconds (0.12 work units), solution count 10\n",
      "\n"
     ]
    }
   ],
   "source": [
    "prob.optimize()"
   ]
  },
  {
   "cell_type": "code",
   "execution_count": 28,
   "metadata": {},
   "outputs": [
    {
     "name": "stdout",
     "output_type": "stream",
     "text": [
      "Optimal value of z: 1.0001e-06\n"
     ]
    }
   ],
   "source": [
    "if prob.status == GRB.Status.OPTIMAL:\n",
    "    print(\"Optimal value of z:\", z.X)\n",
    "else:\n",
    "    print(\"No optimal solution found.\")"
   ]
  },
  {
   "cell_type": "code",
   "execution_count": 29,
   "metadata": {},
   "outputs": [
    {
     "name": "stdout",
     "output_type": "stream",
     "text": [
      "The best route : [0, 5, 4, 1, 6, 9, 2, 10, 3, 8, 7, 11]\n"
     ]
    }
   ],
   "source": [
    "if prob.status == GRB.Status.OPTIMAL:\n",
    "\n",
    "    route = {}\n",
    "    for i in n:\n",
    "        for j in n:\n",
    "            if x[i, j].X > 0.5:\n",
    "                if i not in route:\n",
    "                    route[i] = []\n",
    "                route[i].append(j)\n",
    "    \n",
    "\n",
    "    current_node = 0  \n",
    "    best_route = [current_node]\n",
    "    while current_node in route:\n",
    "        next_node = route[current_node][0]  \n",
    "        best_route.append(next_node)\n",
    "        current_node = next_node\n",
    "    \n",
    "    print(\"The best route :\", best_route)\n",
    "else:\n",
    "    print(\"No optimal solution found.\")"
   ]
  },
  {
   "cell_type": "code",
   "execution_count": 58,
   "metadata": {},
   "outputs": [
    {
     "data": {
      "text/plain": [
       "[0, 5, 4, 1, 6, 9, 2, 7, 10, 3, 8, 11]"
      ]
     },
     "execution_count": 58,
     "metadata": {},
     "output_type": "execute_result"
    }
   ],
   "source": [
    "best_route"
   ]
  },
  {
   "cell_type": "code",
   "execution_count": null,
   "metadata": {},
   "outputs": [
    {
     "name": "stdout",
     "output_type": "stream",
     "text": [
      "The best route : [0, 5, 4, 1, 6, 9, 2, 10, 3, 8, 7, 11]\n"
     ]
    }
   ],
   "source": [
    "if prob.status == GRB.Status.OPTIMAL:\n",
    "\n",
    "    route = {}\n",
    "    for i in n:\n",
    "        for j in n:\n",
    "            if x[i, j].X > 0.5:\n",
    "                if i not in route:\n",
    "                    route[i] = []\n",
    "                route[i].append(j)\n",
    "    \n",
    "\n",
    "    current_node = 0  \n",
    "    best_route = [current_node]\n",
    "    while current_node in route:\n",
    "        next_node = route[current_node][0]  \n",
    "        best_route.append(next_node)\n",
    "        current_node = next_node\n",
    "    \n",
    "    print(\"The best route :\", best_route)\n",
    "else:\n",
    "    print(\"No optimal solution found.\")"
   ]
  },
  {
   "cell_type": "code",
   "execution_count": 30,
   "metadata": {},
   "outputs": [],
   "source": [
    "ta_values = [ta[i].X for i in best_route]\n",
    "ts_values = [ts[i].X for i in best_route]\n",
    "late_values = [late[i].X for i in best_route]\n",
    "\n",
    "\n",
    "result_df = pd.DataFrame({\n",
    "    \"Point\": best_route,\n",
    "    \"ta\": ta_values,\n",
    "    \"ts\": ts_values,\n",
    "    \"late\": late_values\n",
    "})"
   ]
  },
  {
   "cell_type": "code",
   "execution_count": 31,
   "metadata": {},
   "outputs": [
    {
     "data": {
      "text/html": [
       "<div>\n",
       "<style scoped>\n",
       "    .dataframe tbody tr th:only-of-type {\n",
       "        vertical-align: middle;\n",
       "    }\n",
       "\n",
       "    .dataframe tbody tr th {\n",
       "        vertical-align: top;\n",
       "    }\n",
       "\n",
       "    .dataframe thead th {\n",
       "        text-align: right;\n",
       "    }\n",
       "</style>\n",
       "<table border=\"1\" class=\"dataframe\">\n",
       "  <thead>\n",
       "    <tr style=\"text-align: right;\">\n",
       "      <th></th>\n",
       "      <th>Point</th>\n",
       "      <th>ta</th>\n",
       "      <th>ts</th>\n",
       "      <th>late</th>\n",
       "    </tr>\n",
       "  </thead>\n",
       "  <tbody>\n",
       "    <tr>\n",
       "      <th>0</th>\n",
       "      <td>0</td>\n",
       "      <td>0.0000</td>\n",
       "      <td>0.0000</td>\n",
       "      <td>0.000000e+00</td>\n",
       "    </tr>\n",
       "    <tr>\n",
       "      <th>1</th>\n",
       "      <td>5</td>\n",
       "      <td>25.1256</td>\n",
       "      <td>420.0000</td>\n",
       "      <td>0.000000e+00</td>\n",
       "    </tr>\n",
       "    <tr>\n",
       "      <th>2</th>\n",
       "      <td>4</td>\n",
       "      <td>456.0504</td>\n",
       "      <td>456.0504</td>\n",
       "      <td>0.000000e+00</td>\n",
       "    </tr>\n",
       "    <tr>\n",
       "      <th>3</th>\n",
       "      <td>1</td>\n",
       "      <td>493.3464</td>\n",
       "      <td>600.0000</td>\n",
       "      <td>0.000000e+00</td>\n",
       "    </tr>\n",
       "    <tr>\n",
       "      <th>4</th>\n",
       "      <td>6</td>\n",
       "      <td>638.8500</td>\n",
       "      <td>638.8500</td>\n",
       "      <td>0.000000e+00</td>\n",
       "    </tr>\n",
       "    <tr>\n",
       "      <th>5</th>\n",
       "      <td>9</td>\n",
       "      <td>680.9508</td>\n",
       "      <td>680.9508</td>\n",
       "      <td>0.000000e+00</td>\n",
       "    </tr>\n",
       "    <tr>\n",
       "      <th>6</th>\n",
       "      <td>2</td>\n",
       "      <td>731.1564</td>\n",
       "      <td>731.1564</td>\n",
       "      <td>0.000000e+00</td>\n",
       "    </tr>\n",
       "    <tr>\n",
       "      <th>7</th>\n",
       "      <td>10</td>\n",
       "      <td>786.0684</td>\n",
       "      <td>786.0684</td>\n",
       "      <td>0.000000e+00</td>\n",
       "    </tr>\n",
       "    <tr>\n",
       "      <th>8</th>\n",
       "      <td>3</td>\n",
       "      <td>824.7768</td>\n",
       "      <td>840.0000</td>\n",
       "      <td>8.334167e-07</td>\n",
       "    </tr>\n",
       "    <tr>\n",
       "      <th>9</th>\n",
       "      <td>8</td>\n",
       "      <td>896.7672</td>\n",
       "      <td>896.7672</td>\n",
       "      <td>0.000000e+00</td>\n",
       "    </tr>\n",
       "    <tr>\n",
       "      <th>10</th>\n",
       "      <td>7</td>\n",
       "      <td>927.3792</td>\n",
       "      <td>927.3792</td>\n",
       "      <td>0.000000e+00</td>\n",
       "    </tr>\n",
       "    <tr>\n",
       "      <th>11</th>\n",
       "      <td>11</td>\n",
       "      <td>984.4044</td>\n",
       "      <td>0.0000</td>\n",
       "      <td>0.000000e+00</td>\n",
       "    </tr>\n",
       "  </tbody>\n",
       "</table>\n",
       "</div>"
      ],
      "text/plain": [
       "    Point        ta        ts          late\n",
       "0       0    0.0000    0.0000  0.000000e+00\n",
       "1       5   25.1256  420.0000  0.000000e+00\n",
       "2       4  456.0504  456.0504  0.000000e+00\n",
       "3       1  493.3464  600.0000  0.000000e+00\n",
       "4       6  638.8500  638.8500  0.000000e+00\n",
       "5       9  680.9508  680.9508  0.000000e+00\n",
       "6       2  731.1564  731.1564  0.000000e+00\n",
       "7      10  786.0684  786.0684  0.000000e+00\n",
       "8       3  824.7768  840.0000  8.334167e-07\n",
       "9       8  896.7672  896.7672  0.000000e+00\n",
       "10      7  927.3792  927.3792  0.000000e+00\n",
       "11     11  984.4044    0.0000  0.000000e+00"
      ]
     },
     "execution_count": 31,
     "metadata": {},
     "output_type": "execute_result"
    }
   ],
   "source": [
    "result_df"
   ]
  },
  {
   "cell_type": "markdown",
   "metadata": {},
   "source": [
    "## Visualisation"
   ]
  },
  {
   "cell_type": "markdown",
   "metadata": {},
   "source": [
    "### optimal result"
   ]
  },
  {
   "cell_type": "code",
   "execution_count": 191,
   "metadata": {},
   "outputs": [
    {
     "data": {
      "image/png": "[encoded data removed]",
      "text/plain": [
       "<Figure size 720x432 with 1 Axes>"
      ]
     },
     "metadata": {
      "needs_background": "light"
     },
     "output_type": "display_data"
    }
   ],
   "source": [
    "\n",
    "# Plotting the points and the optimal route using seaborn\n",
    "plt.figure(figsize=(10, 6))\n",
    "sns.scatterplot(x=dist['LNG'], y=dist['LAT'], s=100, color='steelblue')\n",
    "\n",
    "\n",
    "# for i, (lat, lng) in enumerate(zip(dist['LAT'], dist['LNG'])):\n",
    "#     if i == 7:\n",
    "#         plt.annotate(i, (lng, lat), textcoords=\"offset points\", xytext=(10,-10), ha='center')\n",
    "#     elif i == 8:\n",
    "#         plt.annotate(i, (lng, lat), textcoords=\"offset points\", xytext=(-10,10), ha='center')\n",
    "#     elif i == 11:\n",
    "#         plt.annotate(f'{i} (Depot)', (lng, lat), textcoords=\"offset points\", xytext=(0,-15), ha='center')\n",
    "#     else:\n",
    "#         plt.annotate(i, (lng, lat), textcoords=\"offset points\", xytext=(0,10), ha='center')\n",
    "\n",
    "\n",
    "# Plotting the route\n",
    "# for i in range(len(best_route) - 1):\n",
    "#     start_point = best_route[i]\n",
    "#     end_point = best_route[i + 1]\n",
    "#     plt.plot([dist['LNG'][start_point], dist['LNG'][end_point]], [dist['LAT'][start_point], dist['LAT'][end_point]], 'g-')\n",
    "\n",
    "\n",
    "\n",
    "# Plotting the route\n",
    "for i in range(len(best_route) - 1):\n",
    "    start_point = best_route[i]\n",
    "    end_point = best_route[i + 1]\n",
    "    plt.plot([dist['LNG'][start_point], dist['LNG'][end_point]], [dist['LAT'][start_point], dist['LAT'][end_point]], 'g-')\n",
    "    mid_x = (dist['LNG'][start_point] + dist['LNG'][end_point]) / 2\n",
    "    mid_y = (dist['LAT'][start_point] + dist['LAT'][end_point]) / 2\n",
    "    plt.annotate(f'{i+1}', (mid_x, mid_y), textcoords=\"offset points\", xytext=(0, 10), ha='center', fontsize=14, color='brown')\n",
    "\n",
    "\n",
    "\n",
    "plt.title('Optimal Route Visualization')\n",
    "plt.xlabel('Longitude')\n",
    "plt.ylabel('Latitude')\n",
    "plt.grid(True)\n",
    "plt.show()"
   ]
  },
  {
   "cell_type": "markdown",
   "metadata": {},
   "source": [
    "### Original result"
   ]
  },
  {
   "cell_type": "code",
   "execution_count": 59,
   "metadata": {},
   "outputs": [],
   "source": [
    "ori_route = [0, 5, 4, 9, 2, 7, 3, 10, 8, 1, 6, 11]"
   ]
  },
  {
   "cell_type": "code",
   "execution_count": 60,
   "metadata": {},
   "outputs": [
    {
     "data": {
      "image/png": "[encoded data removed]",
      "text/plain": [
       "<Figure size 720x432 with 1 Axes>"
      ]
     },
     "metadata": {
      "needs_background": "light"
     },
     "output_type": "display_data"
    }
   ],
   "source": [
    "\n",
    "# Plotting the points and the optimal route using seaborn\n",
    "plt.figure(figsize=(10, 6))\n",
    "sns.scatterplot(x=dist['LNG'], y=dist['LAT'], s=100, color='steelblue')\n",
    "\n",
    "\n",
    "# Plotting the route\n",
    "for i in range(len(ori_route) - 1):\n",
    "    start_point = ori_route[i]\n",
    "    end_point = ori_route[i + 1]\n",
    "    plt.plot([dist['LNG'][start_point], dist['LNG'][end_point]], [dist['LAT'][start_point], dist['LAT'][end_point]], 'g-')\n",
    "    mid_x = (dist['LNG'][start_point] + dist['LNG'][end_point]) / 2\n",
    "    mid_y = (dist['LAT'][start_point] + dist['LAT'][end_point]) / 2\n",
    "    plt.annotate(f'{i+1}', (mid_x, mid_y), textcoords=\"offset points\", xytext=(0, 10), ha='center', fontsize=14, color='brown')\n",
    "\n",
    "\n",
    "\n",
    "plt.title('Original Route Visualization')\n",
    "plt.xlabel('Longitude')\n",
    "plt.ylabel('Latitude')\n",
    "plt.grid(True)\n",
    "plt.show()"
   ]
  },
  {
   "cell_type": "markdown",
   "metadata": {},
   "source": [
    "### Results on Google map"
   ]
  },
  {
   "cell_type": "code",
   "execution_count": 157,
   "metadata": {},
   "outputs": [],
   "source": [
    "file_name = 'optimized_route_map_gmap.html'"
   ]
  },
  {
   "cell_type": "code",
   "execution_count": 158,
   "metadata": {},
   "outputs": [],
   "source": [
    "latitude_list = dist['LAT'].tolist()\n",
    "longitude_list = dist['LNG'].tolist()\n",
    "\n",
    "best_route_latitudes = [latitude_list[i] for i in best_route]\n",
    "best_route_longitudes = [longitude_list[i] for i in best_route]\n",
    "\n",
    "# setting size\n",
    "gmap = gmplot.GoogleMapPlotter(51.45, -2.60, 10, apikey=api_key)\n",
    "\n",
    "# plot all points\n",
    "gmap.scatter(latitude_list, longitude_list, 'lightcoral', size=40, marker=True)\n",
    "\n",
    "# travelling path on google map\n",
    "for idx in range(len(best_route) - 1):\n",
    "    start = f\"{latitude_list[best_route[idx]]},{longitude_list[best_route[idx]]}\"\n",
    "    end = f\"{latitude_list[best_route[idx + 1]]},{longitude_list[best_route[idx + 1]]}\"\n",
    "    url = f\"https://maps.googleapis.com/maps/api/directions/json?origin={start}&destination={end}&key={api_key}\"\n",
    "    \n",
    "    response = requests.get(url)\n",
    "    directions = response.json()\n",
    "    \n",
    "    # ensure request successful\n",
    "    if directions['status'] == 'OK':\n",
    "        route = directions['routes'][0]['overview_polyline']['points']\n",
    "        decoded_route = polyline.decode(route)\n",
    "        latitudes, longitudes = zip(*decoded_route)\n",
    "        gmap.plot(latitudes, longitudes, 'blue', edge_width=4)\n",
    "    else:\n",
    "        print(f\"Error fetching directions between {start} and {end}: {directions['status']}\")\n",
    "\n",
    "# save the map\n",
    "gmap.draw(file_name)"
   ]
  },
  {
   "cell_type": "code",
   "execution_count": null,
   "metadata": {},
   "outputs": [],
   "source": []
  }
 ],
 "metadata": {
  "kernelspec": {
   "display_name": "Python 3",
   "language": "python",
   "name": "python3"
  },
  "language_info": {
   "codemirror_mode": {
    "name": "ipython",
    "version": 3
   },
   "file_extension": ".py",
   "mimetype": "text/x-python",
   "name": "python",
   "nbconvert_exporter": "python",
   "pygments_lexer": "ipython3",
   "version": "3.7.7"
  }
 },
 "nbformat": 4,
 "nbformat_minor": 2
}
